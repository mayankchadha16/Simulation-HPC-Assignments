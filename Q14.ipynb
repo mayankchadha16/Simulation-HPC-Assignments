{
 "cells": [
  {
   "cell_type": "code",
   "execution_count": 9,
   "metadata": {},
   "outputs": [],
   "source": [
    "import numpy as np"
   ]
  },
  {
   "cell_type": "code",
   "execution_count": 10,
   "metadata": {},
   "outputs": [],
   "source": [
    "A = np.array([[4, 1, -1, 0, 0, 0, 0, 0], [1, 6, -2, 1, -1, 0, 0, 0], [0, 1, 5, 0, -1, 1, 0, 0], [0, 2, 0, 5, -1, 0, -1, -1],\n",
    "          [0, 0, -1, -1, 6, -1, 0, -1], [0, 0, -1, 0, -1, 5, 0, 0], [0, 0, 0, -1, 0, 0, 4, -1], [0, 0, 0, -1, -1, 0, -1, 5]])\n",
    "b = np.array([3, -6, -5, 0, 12, -12, -2, 2])"
   ]
  },
  {
   "cell_type": "code",
   "execution_count": 11,
   "metadata": {},
   "outputs": [],
   "source": [
    "x = np.linalg.solve(A, b)"
   ]
  },
  {
   "cell_type": "code",
   "execution_count": 12,
   "metadata": {},
   "outputs": [
    {
     "data": {
      "text/plain": [
       "array([ 1.00000000e+00, -1.00000000e+00, -1.04652170e-16,  1.00000000e+00,\n",
       "        2.00000000e+00, -2.00000000e+00, -1.31645524e-16,  1.00000000e+00])"
      ]
     },
     "execution_count": 12,
     "metadata": {},
     "output_type": "execute_result"
    }
   ],
   "source": [
    "x"
   ]
  },
  {
   "cell_type": "code",
   "execution_count": null,
   "metadata": {},
   "outputs": [],
   "source": [
    "# https://www.geeksforgeeks.org/gauss-seidel-method/"
   ]
  },
  {
   "cell_type": "code",
   "execution_count": 3,
   "metadata": {},
   "outputs": [
    {
     "name": "stdout",
     "output_type": "stream",
     "text": [
      "[0, 0, 0, 0, 0, 0, 0, 0]\n",
      "[1.0, -1.0, 0.0, 1.0, 2.0, -2.0, 0.0, 1.0]\n"
     ]
    }
   ],
   "source": [
    "# Defining our function as seidel which takes 3 arguments\n",
    "# as A matrix, Solution and B matrix\n",
    "\n",
    "def seidel(a, x, b):\n",
    "    n = len(a)\n",
    "    for j in range(0, n):\n",
    "        # temp variable d to store b[j]\n",
    "        d = b[j]\n",
    "\n",
    "        # to calculate respective xi, yi, zi\n",
    "        for i in range(0, n):\n",
    "            if (j != i):\n",
    "                d -= a[j][i] * x[i]\n",
    "        # updating the value of our solution\n",
    "        x[j] = d / a[j][j]\n",
    "    # returning our updated solution\n",
    "    return x\n",
    "\n",
    "\n",
    "# int(input())input as number of variable to be solved\n",
    "n = 8\n",
    "a = []\n",
    "b = []\n",
    "# initial solution depending on n(here n=3)\n",
    "x = [0, 0, 0, 0, 0, 0, 0, 0]\n",
    "a = [[4, 1, -1, 0, 0, 0, 0, 0], [1, 6, -2, 1, -1, 0, 0, 0], [0, 1, 5, 0, -1, 1, 0, 0], [0, 2, 0, 5, -1, 0, -1, -1],\n",
    "     [0, 0, -1, -1, 6, -1, 0, -1], [0, 0, -1, 0, -1, 5, 0, 0], [0, 0, 0, -1, 0, 0, 4, -1], [0, 0, 0, -1, -1, 0, -1, 5]]\n",
    "b = [3, -6, -5, 0, 12, -12, -2, 2]\n",
    "print(x)\n",
    "\n",
    "# loop run for m times depending on m the error value\n",
    "for i in range(0, 50):\n",
    "    x = seidel(a, x, b)\n",
    "    # print each time the updated solution\n",
    "print(x)"
   ]
  },
  {
   "cell_type": "code",
   "execution_count": null,
   "metadata": {},
   "outputs": [],
   "source": []
  }
 ],
 "metadata": {
  "kernelspec": {
   "display_name": "Python 3",
   "language": "python",
   "name": "python3"
  },
  "language_info": {
   "codemirror_mode": {
    "name": "ipython",
    "version": 3
   },
   "file_extension": ".py",
   "mimetype": "text/x-python",
   "name": "python",
   "nbconvert_exporter": "python",
   "pygments_lexer": "ipython3",
   "version": "3.8.10"
  },
  "orig_nbformat": 4
 },
 "nbformat": 4,
 "nbformat_minor": 2
}
